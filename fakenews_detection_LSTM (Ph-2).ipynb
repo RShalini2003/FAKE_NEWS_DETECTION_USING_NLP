{
 "cells": [
  {
   "cell_type": "code",
   "execution_count": 1,
   "id": "90c2d33b",
   "metadata": {},
   "outputs": [],
   "source": [
    "# importing necessary libraries\n",
    "import tensorflow as tf\n",
    "import pandas as pd\n",
    "import numpy as np\n",
    "from tensorflow.keras.models import Sequential\n",
    "from tensorflow.keras.preprocessing import sequence\n",
    "from tensorflow.keras.layers import Dense,LSTM,Embedding,Bidirectional,Dropout\n",
    "from sklearn.model_selection import train_test_split\n",
    "from tensorflow.keras.preprocessing.text import Tokenizer\n",
    "from tensorflow.keras.preprocessing.sequence import pad_sequences\n",
    "import re"
   ]
  },
  {
   "cell_type": "code",
   "execution_count": 2,
   "id": "88427d90",
   "metadata": {},
   "outputs": [],
   "source": [
    "data_t=pd.read_csv(\"True.csv\")        # reading true dataset\n",
    "data_f=pd.read_csv(\"Fake.csv\")        # reading fake dataset"
   ]
  },
  {
   "cell_type": "code",
   "execution_count": 3,
   "id": "297c880f",
   "metadata": {},
   "outputs": [],
   "source": [
    "data_t['class']=1\n",
    "data_f['class']=0"
   ]
  },
  {
   "cell_type": "code",
   "execution_count": 4,
   "id": "c9f813bc",
   "metadata": {},
   "outputs": [
    {
     "name": "stdout",
     "output_type": "stream",
     "text": [
      "title      0\n",
      "text       0\n",
      "subject    0\n",
      "date       0\n",
      "class      0\n",
      "dtype: int64 title      0\n",
      "text       0\n",
      "subject    0\n",
      "date       0\n",
      "class      0\n",
      "dtype: int64\n"
     ]
    }
   ],
   "source": [
    "print(data_t.isna().sum(),data_f.isna().sum())"
   ]
  },
  {
   "cell_type": "code",
   "execution_count": 5,
   "id": "691829be",
   "metadata": {},
   "outputs": [],
   "source": [
    "      # dropping unwanted columns\n",
    "data_t.drop(['subject'],axis=1,inplace=True)\n",
    "data_t.drop(['date'],axis=1,inplace=True)\n",
    "data_t.drop(['title'],axis=1,inplace=True)\n",
    "data_f.drop(['title'],axis=1,inplace=True)         \n",
    "data_f.drop(['subject'],axis=1,inplace=True)\n",
    "data_f.drop(['date'],axis=1,inplace=True)"
   ]
  },
  {
   "cell_type": "code",
   "execution_count": 6,
   "id": "6aa04f46",
   "metadata": {},
   "outputs": [
    {
     "data": {
      "text/plain": [
       "Index(['text', 'class'], dtype='object')"
      ]
     },
     "execution_count": 6,
     "metadata": {},
     "output_type": "execute_result"
    }
   ],
   "source": [
    "    # combining true and fake news datasets\n",
    "data=pd.concat([data_t,data_f],axis=0)\n",
    "data.columns"
   ]
  },
  {
   "cell_type": "code",
   "execution_count": 7,
   "id": "07a4b817",
   "metadata": {},
   "outputs": [],
   "source": [
    "  # suffle the data\n",
    "data=data.sample(frac=1)"
   ]
  },
  {
   "cell_type": "code",
   "execution_count": 8,
   "id": "f30a415e",
   "metadata": {},
   "outputs": [
    {
     "data": {
      "text/html": [
       "<div>\n",
       "<style scoped>\n",
       "    .dataframe tbody tr th:only-of-type {\n",
       "        vertical-align: middle;\n",
       "    }\n",
       "\n",
       "    .dataframe tbody tr th {\n",
       "        vertical-align: top;\n",
       "    }\n",
       "\n",
       "    .dataframe thead th {\n",
       "        text-align: right;\n",
       "    }\n",
       "</style>\n",
       "<table border=\"1\" class=\"dataframe\">\n",
       "  <thead>\n",
       "    <tr style=\"text-align: right;\">\n",
       "      <th></th>\n",
       "      <th>text</th>\n",
       "      <th>class</th>\n",
       "    </tr>\n",
       "  </thead>\n",
       "  <tbody>\n",
       "    <tr>\n",
       "      <th>609</th>\n",
       "      <td>WASHINGTON (Reuters) - President Donald Trump ...</td>\n",
       "      <td>1</td>\n",
       "    </tr>\n",
       "    <tr>\n",
       "      <th>11784</th>\n",
       "      <td>Muslims take time away from protest to pray at...</td>\n",
       "      <td>0</td>\n",
       "    </tr>\n",
       "    <tr>\n",
       "      <th>15269</th>\n",
       "      <td>HAMBURG (Reuters) - Many Syrian refugees in Ge...</td>\n",
       "      <td>1</td>\n",
       "    </tr>\n",
       "    <tr>\n",
       "      <th>5852</th>\n",
       "      <td>BAGHDAD/CAIRO (Reuters) - A global backlash ag...</td>\n",
       "      <td>1</td>\n",
       "    </tr>\n",
       "    <tr>\n",
       "      <th>9342</th>\n",
       "      <td>Earlier today, President Trump tweeted:  We sh...</td>\n",
       "      <td>0</td>\n",
       "    </tr>\n",
       "  </tbody>\n",
       "</table>\n",
       "</div>"
      ],
      "text/plain": [
       "                                                    text  class\n",
       "609    WASHINGTON (Reuters) - President Donald Trump ...      1\n",
       "11784  Muslims take time away from protest to pray at...      0\n",
       "15269  HAMBURG (Reuters) - Many Syrian refugees in Ge...      1\n",
       "5852   BAGHDAD/CAIRO (Reuters) - A global backlash ag...      1\n",
       "9342   Earlier today, President Trump tweeted:  We sh...      0"
      ]
     },
     "execution_count": 8,
     "metadata": {},
     "output_type": "execute_result"
    }
   ],
   "source": [
    "data.head()"
   ]
  },
  {
   "cell_type": "code",
   "execution_count": 9,
   "id": "1be4b728",
   "metadata": {},
   "outputs": [],
   "source": [
    "data.reset_index(inplace=True)"
   ]
  },
  {
   "cell_type": "code",
   "execution_count": 10,
   "id": "4d911dae",
   "metadata": {},
   "outputs": [
    {
     "data": {
      "text/plain": [
       "Index(['text', 'class'], dtype='object')"
      ]
     },
     "execution_count": 10,
     "metadata": {},
     "output_type": "execute_result"
    }
   ],
   "source": [
    "data.drop(['index'],axis=1,inplace=True)\n",
    "data.columns"
   ]
  },
  {
   "cell_type": "code",
   "execution_count": 11,
   "id": "4732eb17",
   "metadata": {},
   "outputs": [
    {
     "name": "stdout",
     "output_type": "stream",
     "text": [
      "<class 'pandas.core.frame.DataFrame'>\n",
      "RangeIndex: 44898 entries, 0 to 44897\n",
      "Data columns (total 2 columns):\n",
      " #   Column  Non-Null Count  Dtype \n",
      "---  ------  --------------  ----- \n",
      " 0   text    44898 non-null  object\n",
      " 1   class   44898 non-null  int64 \n",
      "dtypes: int64(1), object(1)\n",
      "memory usage: 701.7+ KB\n"
     ]
    }
   ],
   "source": [
    "data.info()"
   ]
  },
  {
   "cell_type": "code",
   "execution_count": 12,
   "id": "29866ec9",
   "metadata": {},
   "outputs": [],
   "source": [
    "data=data.head(20000)"
   ]
  },
  {
   "cell_type": "code",
   "execution_count": 13,
   "id": "2ae152a9",
   "metadata": {},
   "outputs": [
    {
     "name": "stdout",
     "output_type": "stream",
     "text": [
      "(16000,)\n",
      "(16000,)\n",
      "(4000,)\n",
      "(4000,)\n"
     ]
    }
   ],
   "source": [
    "   # spliting the data into train test split\n",
    "x_train,x_test,y_train,y_test=train_test_split(data['text'],data['class'],test_size=0.2,random_state=0)\n",
    "print(x_train.shape)\n",
    "print(y_train.shape)\n",
    "print(x_test.shape)\n",
    "print(y_test.shape)"
   ]
  },
  {
   "cell_type": "code",
   "execution_count": 14,
   "id": "ec4098db",
   "metadata": {},
   "outputs": [],
   "source": [
    "#    removing unwanted characters ,urls,special characters,blank spaces etc\n",
    "\n",
    "def clean(data):\n",
    "    normalized=[]\n",
    "    for i in data:\n",
    "        i=i.lower()\n",
    "        i=re.sub('https?://\\S+|www\\.\\S+','',i)\n",
    "        i=re.sub('\\\\W',' ',i)\n",
    "        i=re.sub('\\n','',i)\n",
    "        i=re.sub(' +',' ',i)\n",
    "        i=re.sub('^ ','',i)\n",
    "        i=re.sub(' $','',i)\n",
    "        normalized.append(i)\n",
    "    return normalized"
   ]
  },
  {
   "cell_type": "code",
   "execution_count": 15,
   "id": "04a9f24e",
   "metadata": {},
   "outputs": [],
   "source": [
    "x_train=clean(x_train)\n",
    "x_test=clean(x_test)"
   ]
  },
  {
   "cell_type": "code",
   "execution_count": 16,
   "id": "9c8d7232",
   "metadata": {},
   "outputs": [],
   "source": [
    "vocabs=10000\n",
    "token=Tokenizer(vocabs)\n",
    "token.fit_on_texts(x_train)"
   ]
  },
  {
   "cell_type": "code",
   "execution_count": 17,
   "id": "099fd555",
   "metadata": {},
   "outputs": [],
   "source": [
    "# tokenize the text into vectors\n",
    "x_train=token.texts_to_sequences(x_train)\n",
    "x_test=token.texts_to_sequences(x_test)"
   ]
  },
  {
   "cell_type": "code",
   "execution_count": 18,
   "id": "006cf478",
   "metadata": {},
   "outputs": [],
   "source": [
    "x_train=pad_sequences(x_train,padding='post',maxlen=256)\n",
    "x_test=pad_sequences(x_test,padding='post',maxlen=256)"
   ]
  },
  {
   "cell_type": "code",
   "execution_count": 19,
   "id": "353642f8",
   "metadata": {},
   "outputs": [],
   "source": [
    "# training model\n",
    "\n",
    "model=Sequential()\n",
    "model.add(Embedding(vocabs,100))\n",
    "model.add(Dropout(0.2))\n",
    "model.add(LSTM(128,return_sequences=True))\n",
    "model.add(LSTM(128))\n",
    "model.add(Dropout(0.2))\n",
    "model.add(Dense(512))\n",
    "model.add(Dropout(0.2))\n",
    "model.add(Dense(256))\n",
    "model.add(Dense(1,activation=\"sigmoid\"))"
   ]
  },
  {
   "cell_type": "code",
   "execution_count": 20,
   "id": "caa0d570",
   "metadata": {
    "scrolled": false
   },
   "outputs": [
    {
     "name": "stdout",
     "output_type": "stream",
     "text": [
      "Model: \"sequential\"\n",
      "_________________________________________________________________\n",
      " Layer (type)                Output Shape              Param #   \n",
      "=================================================================\n",
      " embedding (Embedding)       (None, None, 100)         1000000   \n",
      "                                                                 \n",
      " dropout (Dropout)           (None, None, 100)         0         \n",
      "                                                                 \n",
      " lstm (LSTM)                 (None, None, 128)         117248    \n",
      "                                                                 \n",
      " lstm_1 (LSTM)               (None, 128)               131584    \n",
      "                                                                 \n",
      " dropout_1 (Dropout)         (None, 128)               0         \n",
      "                                                                 \n",
      " dense (Dense)               (None, 512)               66048     \n",
      "                                                                 \n",
      " dropout_2 (Dropout)         (None, 512)               0         \n",
      "                                                                 \n",
      " dense_1 (Dense)             (None, 256)               131328    \n",
      "                                                                 \n",
      " dense_2 (Dense)             (None, 1)                 257       \n",
      "                                                                 \n",
      "=================================================================\n",
      "Total params: 1446465 (5.52 MB)\n",
      "Trainable params: 1446465 (5.52 MB)\n",
      "Non-trainable params: 0 (0.00 Byte)\n",
      "_________________________________________________________________\n"
     ]
    }
   ],
   "source": [
    "model.compile(loss=\"binary_crossentropy\",optimizer=\"adam\",metrics='accuracy')\n",
    "model.summary()"
   ]
  },
  {
   "cell_type": "code",
   "execution_count": 21,
   "id": "d8f9fec2",
   "metadata": {},
   "outputs": [
    {
     "name": "stdout",
     "output_type": "stream",
     "text": [
      "Epoch 1/15\n",
      "8/8 [==============================] - 153s 18s/step - loss: 0.6719 - accuracy: 0.5482 - val_loss: 0.5971 - val_accuracy: 0.7253\n",
      "Epoch 2/15\n",
      "8/8 [==============================] - 187s 24s/step - loss: 0.4819 - accuracy: 0.7516 - val_loss: 0.3917 - val_accuracy: 0.7565\n",
      "Epoch 3/15\n",
      "8/8 [==============================] - 255s 30s/step - loss: 0.3414 - accuracy: 0.8064 - val_loss: 0.3320 - val_accuracy: 0.8263\n",
      "Epoch 4/15\n",
      "8/8 [==============================] - 245s 32s/step - loss: 0.2773 - accuracy: 0.8436 - val_loss: 0.2980 - val_accuracy: 0.8457\n",
      "Epoch 5/15\n",
      "8/8 [==============================] - 210s 26s/step - loss: 0.2496 - accuracy: 0.8621 - val_loss: 0.2729 - val_accuracy: 0.8640\n",
      "Epoch 6/15\n",
      "8/8 [==============================] - 157s 19s/step - loss: 0.2264 - accuracy: 0.8876 - val_loss: 0.2588 - val_accuracy: 0.8845\n",
      "Epoch 7/15\n",
      "8/8 [==============================] - 146s 18s/step - loss: 0.2387 - accuracy: 0.8679 - val_loss: 0.2918 - val_accuracy: 0.8455\n",
      "Epoch 8/15\n",
      "8/8 [==============================] - 145s 18s/step - loss: 0.2132 - accuracy: 0.8739 - val_loss: 0.2974 - val_accuracy: 0.8263\n",
      "Epoch 9/15\n",
      "8/8 [==============================] - 154s 20s/step - loss: 0.2441 - accuracy: 0.8682 - val_loss: 0.2739 - val_accuracy: 0.8585\n",
      "Epoch 10/15\n",
      "8/8 [==============================] - 152s 19s/step - loss: 0.2078 - accuracy: 0.8794 - val_loss: 0.2669 - val_accuracy: 0.8677\n",
      "Epoch 11/15\n",
      "8/8 [==============================] - 146s 18s/step - loss: 0.1429 - accuracy: 0.9281 - val_loss: 0.1803 - val_accuracy: 0.9605\n",
      "Epoch 12/15\n",
      "8/8 [==============================] - 166s 21s/step - loss: 0.0344 - accuracy: 0.9891 - val_loss: 0.0839 - val_accuracy: 0.9732\n",
      "Epoch 13/15\n",
      "8/8 [==============================] - 151s 19s/step - loss: 0.0171 - accuracy: 0.9957 - val_loss: 0.0851 - val_accuracy: 0.9753\n",
      "Epoch 14/15\n",
      "8/8 [==============================] - 152s 19s/step - loss: 0.0062 - accuracy: 0.9986 - val_loss: 0.0958 - val_accuracy: 0.9812\n",
      "Epoch 15/15\n",
      "8/8 [==============================] - 188s 24s/step - loss: 0.0038 - accuracy: 0.9994 - val_loss: 0.0852 - val_accuracy: 0.9822\n"
     ]
    }
   ],
   "source": [
    "result=model.fit(x_train,y_train,epochs=15,batch_size=2000,validation_data=(x_test,y_test))"
   ]
  },
  {
   "cell_type": "code",
   "execution_count": 24,
   "id": "9603b594",
   "metadata": {},
   "outputs": [
    {
     "data": {
      "text/html": [
       "<div>\n",
       "<style scoped>\n",
       "    .dataframe tbody tr th:only-of-type {\n",
       "        vertical-align: middle;\n",
       "    }\n",
       "\n",
       "    .dataframe tbody tr th {\n",
       "        vertical-align: top;\n",
       "    }\n",
       "\n",
       "    .dataframe thead th {\n",
       "        text-align: right;\n",
       "    }\n",
       "</style>\n",
       "<table border=\"1\" class=\"dataframe\">\n",
       "  <thead>\n",
       "    <tr style=\"text-align: right;\">\n",
       "      <th></th>\n",
       "      <th>loss</th>\n",
       "      <th>accuracy</th>\n",
       "      <th>val_loss</th>\n",
       "      <th>val_accuracy</th>\n",
       "    </tr>\n",
       "  </thead>\n",
       "  <tbody>\n",
       "    <tr>\n",
       "      <th>0</th>\n",
       "      <td>0.671908</td>\n",
       "      <td>0.548187</td>\n",
       "      <td>0.597056</td>\n",
       "      <td>0.72525</td>\n",
       "    </tr>\n",
       "    <tr>\n",
       "      <th>1</th>\n",
       "      <td>0.481856</td>\n",
       "      <td>0.751562</td>\n",
       "      <td>0.391730</td>\n",
       "      <td>0.75650</td>\n",
       "    </tr>\n",
       "    <tr>\n",
       "      <th>2</th>\n",
       "      <td>0.341353</td>\n",
       "      <td>0.806375</td>\n",
       "      <td>0.331968</td>\n",
       "      <td>0.82625</td>\n",
       "    </tr>\n",
       "    <tr>\n",
       "      <th>3</th>\n",
       "      <td>0.277347</td>\n",
       "      <td>0.843562</td>\n",
       "      <td>0.297994</td>\n",
       "      <td>0.84575</td>\n",
       "    </tr>\n",
       "    <tr>\n",
       "      <th>4</th>\n",
       "      <td>0.249641</td>\n",
       "      <td>0.862125</td>\n",
       "      <td>0.272929</td>\n",
       "      <td>0.86400</td>\n",
       "    </tr>\n",
       "    <tr>\n",
       "      <th>5</th>\n",
       "      <td>0.226403</td>\n",
       "      <td>0.887563</td>\n",
       "      <td>0.258844</td>\n",
       "      <td>0.88450</td>\n",
       "    </tr>\n",
       "    <tr>\n",
       "      <th>6</th>\n",
       "      <td>0.238651</td>\n",
       "      <td>0.867938</td>\n",
       "      <td>0.291843</td>\n",
       "      <td>0.84550</td>\n",
       "    </tr>\n",
       "    <tr>\n",
       "      <th>7</th>\n",
       "      <td>0.213238</td>\n",
       "      <td>0.873937</td>\n",
       "      <td>0.297431</td>\n",
       "      <td>0.82625</td>\n",
       "    </tr>\n",
       "    <tr>\n",
       "      <th>8</th>\n",
       "      <td>0.244148</td>\n",
       "      <td>0.868187</td>\n",
       "      <td>0.273908</td>\n",
       "      <td>0.85850</td>\n",
       "    </tr>\n",
       "    <tr>\n",
       "      <th>9</th>\n",
       "      <td>0.207803</td>\n",
       "      <td>0.879438</td>\n",
       "      <td>0.266925</td>\n",
       "      <td>0.86775</td>\n",
       "    </tr>\n",
       "    <tr>\n",
       "      <th>10</th>\n",
       "      <td>0.142905</td>\n",
       "      <td>0.928125</td>\n",
       "      <td>0.180331</td>\n",
       "      <td>0.96050</td>\n",
       "    </tr>\n",
       "    <tr>\n",
       "      <th>11</th>\n",
       "      <td>0.034392</td>\n",
       "      <td>0.989125</td>\n",
       "      <td>0.083867</td>\n",
       "      <td>0.97325</td>\n",
       "    </tr>\n",
       "    <tr>\n",
       "      <th>12</th>\n",
       "      <td>0.017053</td>\n",
       "      <td>0.995687</td>\n",
       "      <td>0.085082</td>\n",
       "      <td>0.97525</td>\n",
       "    </tr>\n",
       "    <tr>\n",
       "      <th>13</th>\n",
       "      <td>0.006229</td>\n",
       "      <td>0.998625</td>\n",
       "      <td>0.095842</td>\n",
       "      <td>0.98125</td>\n",
       "    </tr>\n",
       "    <tr>\n",
       "      <th>14</th>\n",
       "      <td>0.003811</td>\n",
       "      <td>0.999375</td>\n",
       "      <td>0.085171</td>\n",
       "      <td>0.98225</td>\n",
       "    </tr>\n",
       "  </tbody>\n",
       "</table>\n",
       "</div>"
      ],
      "text/plain": [
       "        loss  accuracy  val_loss  val_accuracy\n",
       "0   0.671908  0.548187  0.597056       0.72525\n",
       "1   0.481856  0.751562  0.391730       0.75650\n",
       "2   0.341353  0.806375  0.331968       0.82625\n",
       "3   0.277347  0.843562  0.297994       0.84575\n",
       "4   0.249641  0.862125  0.272929       0.86400\n",
       "5   0.226403  0.887563  0.258844       0.88450\n",
       "6   0.238651  0.867938  0.291843       0.84550\n",
       "7   0.213238  0.873937  0.297431       0.82625\n",
       "8   0.244148  0.868187  0.273908       0.85850\n",
       "9   0.207803  0.879438  0.266925       0.86775\n",
       "10  0.142905  0.928125  0.180331       0.96050\n",
       "11  0.034392  0.989125  0.083867       0.97325\n",
       "12  0.017053  0.995687  0.085082       0.97525\n",
       "13  0.006229  0.998625  0.095842       0.98125\n",
       "14  0.003811  0.999375  0.085171       0.98225"
      ]
     },
     "execution_count": 24,
     "metadata": {},
     "output_type": "execute_result"
    }
   ],
   "source": [
    "accuracy=pd.DataFrame(model.history.history)\n",
    "accuracy"
   ]
  },
  {
   "cell_type": "code",
   "execution_count": 35,
   "id": "220ebacb",
   "metadata": {},
   "outputs": [
    {
     "data": {
      "text/plain": [
       "10    0.928125\n",
       "11    0.989125\n",
       "12    0.995687\n",
       "13    0.998625\n",
       "14    0.999375\n",
       "Name: accuracy, dtype: float64"
      ]
     },
     "execution_count": 35,
     "metadata": {},
     "output_type": "execute_result"
    }
   ],
   "source": [
    "accuracy['accuracy'].tail()"
   ]
  },
  {
   "cell_type": "code",
   "execution_count": 26,
   "id": "b26b4186",
   "metadata": {},
   "outputs": [
    {
     "name": "stderr",
     "output_type": "stream",
     "text": [
      "C:\\Users\\Dell\\AppData\\Roaming\\Python\\Python311\\site-packages\\keras\\src\\engine\\training.py:3000: UserWarning: You are saving your model as an HDF5 file via `model.save()`. This file format is considered legacy. We recommend using instead the native Keras format, e.g. `model.save('my_model.keras')`.\n",
      "  saving_api.save_model(\n"
     ]
    }
   ],
   "source": [
    "model.save(\"fakenews_detection.h5\")"
   ]
  },
  {
   "cell_type": "code",
   "execution_count": 2,
   "id": "ff9364b7",
   "metadata": {},
   "outputs": [
    {
     "name": "stdout",
     "output_type": "stream",
     "text": [
      "Enter the News:\"Donald Trump just couldn t wish all Americans a Happy New Year and leave it at that. Instead, he had to give a shout out to his enemies, haters and  the very dishonest\n",
      "1/1 [==============================] - 1s 866ms/step\n"
     ]
    },
    {
     "data": {
      "text/plain": [
       "array([[0.00527592]], dtype=float32)"
      ]
     },
     "execution_count": 2,
     "metadata": {},
     "output_type": "execute_result"
    }
   ],
   "source": [
    "import tensorflow as tf\n",
    "from tensorflow.keras.preprocessing.text import Tokenizer\n",
    "from tensorflow.keras.preprocessing.sequence import pad_sequences\n",
    "mod=tf.keras.models.load_model(\"fakenews_detection.h5\")\n",
    "news=input(\"Enter the News:\")\n",
    "vocabs=10000\n",
    "token=Tokenizer(vocabs)\n",
    "token.fit_on_texts([news])\n",
    "news_input=token.texts_to_sequences([news])\n",
    "news_input=pad_sequences(news_input,maxlen=256)\n",
    "\n",
    "prediction=mod.predict(news_input)\n",
    "prediction"
   ]
  },
  {
   "cell_type": "code",
   "execution_count": 3,
   "id": "71531271",
   "metadata": {},
   "outputs": [
    {
     "name": "stdout",
     "output_type": "stream",
     "text": [
      "it is fake news\n"
     ]
    }
   ],
   "source": [
    "# 0.5 is a default threshold value for binary classification and the threshold value may differ based on our datasets\n",
    "if prediction[0]>0.06:\n",
    "    print(\"it is real news\")\n",
    "else:\n",
    "    print(\"it is fake news\")"
   ]
  },
  {
   "cell_type": "code",
   "execution_count": null,
   "id": "338bcaf1",
   "metadata": {},
   "outputs": [],
   "source": []
  }
 ],
 "metadata": {
  "kernelspec": {
   "display_name": "Python 3 (ipykernel)",
   "language": "python",
   "name": "python3"
  },
  "language_info": {
   "codemirror_mode": {
    "name": "ipython",
    "version": 3
   },
   "file_extension": ".py",
   "mimetype": "text/x-python",
   "name": "python",
   "nbconvert_exporter": "python",
   "pygments_lexer": "ipython3",
   "version": "3.11.3"
  }
 },
 "nbformat": 4,
 "nbformat_minor": 5
}
